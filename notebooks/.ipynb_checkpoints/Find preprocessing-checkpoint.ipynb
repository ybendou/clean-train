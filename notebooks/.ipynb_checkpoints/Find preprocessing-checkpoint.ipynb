{
 "cells": [
  {
   "cell_type": "code",
   "execution_count": 1,
   "id": "8bd8be6a",
   "metadata": {},
   "outputs": [
    {
     "data": {
      "text/html": [
       "<style>.container { width:90% !important; }</style>"
      ],
      "text/plain": [
       "<IPython.core.display.HTML object>"
      ]
     },
     "metadata": {},
     "output_type": "display_data"
    }
   ],
   "source": [
    "import seaborn as sns ;sns.set(rc={'figure.figsize':(20,10)})\n",
    "\n",
    "import warnings\n",
    "warnings.filterwarnings(\"ignore\")\n",
    "from IPython.display import Latex\n",
    "\n",
    "from IPython.core.display import display, HTML\n",
    "display(HTML(\"<style>.container { width:90% !important; }</style>\"))\n",
    "\n",
    "%load_ext autoreload\n",
    "%autoreload 2\n",
    "\n",
    "import matplotlib.pyplot as plt\n",
    "plt.rcParams ['figure.figsize']  = 25, 10\n",
    "plt.rcParams ['axes.labelsize']  = 14\n",
    "plt.rcParams ['xtick.labelsize'] = 12\n",
    "plt.rcParams ['ytick.labelsize'] = 12\n",
    "plt.rcParams ['text.color']      = 'black'\n",
    "plt.rcParams ['axes.labelcolor'] = 'black'\n",
    "plt.rcParams ['xtick.color']     = 'black'\n",
    "plt.rcParams ['ytick.color']     = 'black'\n",
    "plt.style.use('fivethirtyeight')"
   ]
  },
  {
   "cell_type": "code",
   "execution_count": 2,
   "id": "efa84968",
   "metadata": {},
   "outputs": [
    {
     "name": "stdout",
     "output_type": "stream",
     "text": [
      "utils, datasets, eval_few_shot, "
     ]
    }
   ],
   "source": [
    "from utils import *\n",
    "import datasets\n",
    "from args_notebook import args\n",
    "import resnet12\n",
    "import few_shot_eval"
   ]
  },
  {
   "cell_type": "code",
   "execution_count": 3,
   "id": "46234120",
   "metadata": {},
   "outputs": [
    {
     "name": "stdout",
     "output_type": "stream",
     "text": [
      "\n",
      "Dataset contains 64 base classes, 16 val classes and 20 novel classes.\n",
      "Generating runs... done.\n"
     ]
    }
   ],
   "source": [
    "loaders, input_shape, num_classes, few_shot, top_5 = datasets.get_dataset(args.dataset)\n",
    "\n",
    "### initialize few-shot meta data\n",
    "if few_shot:\n",
    "    num_classes, val_classes, novel_classes, elements_per_class = num_classes\n",
    "    if args.dataset.lower() == \"cubfs\":\n",
    "        elements_val, elements_novel = elements_per_class\n",
    "    else:\n",
    "        elements_val, elements_novel = [elements_per_class] * val_classes, [elements_per_class] * novel_classes\n",
    "    print(\"Dataset contains\",num_classes,\"base classes,\",val_classes,\"val classes and\",novel_classes,\"novel classes.\")\n",
    "    print(\"Generating runs... \", end='')\n",
    "    val_runs = list(zip(*[few_shot_eval.define_runs(args.n_ways, s, args.n_queries, val_classes, elements_val) for s in args.n_shots]))\n",
    "    val_run_classes, val_run_indices = val_runs[0], val_runs[1]\n",
    "    novel_runs = list(zip(*[few_shot_eval.define_runs(args.n_ways, s, args.n_queries, novel_classes, elements_novel) for s in args.n_shots]))\n",
    "    novel_run_classes, novel_run_indices = novel_runs[0], novel_runs[1]\n",
    "    print(\"done.\")\n",
    "    few_shot_meta_data = {\n",
    "        \"val_run_classes\" : val_run_classes,\n",
    "        \"val_run_indices\" : val_run_indices,\n",
    "        \"novel_run_classes\" : novel_run_classes,\n",
    "        \"novel_run_indices\" : novel_run_indices,\n",
    "        \"best_val_acc\" : [0] * len(args.n_shots),\n",
    "        \"best_val_acc_ever\" : [0] * len(args.n_shots),\n",
    "        \"best_novel_acc\" : [0] * len(args.n_shots)\n",
    "    }\n",
    "\n",
    "    "
   ]
  },
  {
   "cell_type": "code",
   "execution_count": 4,
   "id": "d4481c25",
   "metadata": {},
   "outputs": [],
   "source": [
    "### function to create model\n",
    "def create_model():\n",
    "    if args.model.lower() == \"resnet18\":\n",
    "        return resnet.ResNet18(args.feature_maps, input_shape, num_classes, few_shot, args.rotations).to(args.device)\n",
    "    if args.model.lower() == \"resnet20\":\n",
    "        return resnet.ResNet20(args.feature_maps, input_shape, num_classes, few_shot, args.rotations).to(args.device)\n",
    "    if args.model.lower() == \"wideresnet\":\n",
    "        return wideresnet.WideResNet(args.feature_maps, input_shape, few_shot, args.rotations, num_classes = num_classes).to(args.device)\n",
    "    if args.model.lower() == \"resnet12\":\n",
    "        return resnet12.ResNet12(args.feature_maps, input_shape, num_classes, few_shot, args.rotations).to(args.device)\n",
    "    if args.model.lower()[:3] == \"mlp\":\n",
    "        return mlp.MLP(args.feature_maps, int(args.model[3:]), input_shape, num_classes, args.rotations, few_shot).to(args.device)\n",
    "    if args.model.lower() == \"s2m2r\":\n",
    "        return s2m2.S2M2R(args.feature_maps, input_shape, args.rotations, num_classes = num_classes).to(args.device)\n",
    "\n",
    "model = create_model()"
   ]
  },
  {
   "cell_type": "code",
   "execution_count": 89,
   "id": "99ab6cff",
   "metadata": {},
   "outputs": [],
   "source": [
    "\n",
    "mode = 'standard'\n",
    "shot = 5\n",
    "train_classes = 64\n",
    "out_maps = 640\n",
    "feature_maps = 64\n",
    "\n",
    "features_path = '../../../Experiments/features/'\n",
    "features = torch.load(f'{features_path}/features_{mode}{shot}')\n",
    "\n",
    "train_features = features[:64]\n",
    "val_features = features[64:-16]\n",
    "novel_features = features[-16:]"
   ]
  },
  {
   "cell_type": "code",
   "execution_count": 90,
   "id": "e0022397",
   "metadata": {},
   "outputs": [],
   "source": [
    "train_features = sphering(train_features)"
   ]
  },
  {
   "cell_type": "code",
   "execution_count": 91,
   "id": "bf9d55e6",
   "metadata": {},
   "outputs": [],
   "source": [
    "train_features = train_features.reshape(600*train_classes, 1, 640)"
   ]
  },
  {
   "cell_type": "code",
   "execution_count": 92,
   "id": "443b0af5",
   "metadata": {},
   "outputs": [],
   "source": [
    "from torch import nn\n",
    "class transform(nn.Module):\n",
    "    def __init__(self, feature_maps=64, out_maps=640):\n",
    "        super(transform, self).__init__()\n",
    "        self.linear = nn.Linear(10*feature_maps, out_maps, bias=True)\n",
    "    \n",
    "    def forward(self, x):\n",
    "        return self.linear(x)\n",
    "    \n",
    "\n",
    "\n",
    "T = transform(feature_maps, out_maps).cuda()\n",
    "L = nn.Linear(out_maps, train_classes, bias=False).cuda()\n",
    "\n",
    "\n"
   ]
  },
  {
   "cell_type": "code",
   "execution_count": null,
   "id": "726e029c",
   "metadata": {},
   "outputs": [],
   "source": [
    "# train classifier on train features\n",
    "crit = torch.nn.CrossEntropyLoss()\n",
    "\n",
    "output = T(train_features)\n",
    "output = sphering(output)\n",
    "output = L(data)\n",
    "loss = crit(output,target)"
   ]
  },
  {
   "cell_type": "code",
   "execution_count": 93,
   "id": "b0b4955a",
   "metadata": {},
   "outputs": [],
   "source": [
    "output = T(train_features)"
   ]
  },
  {
   "cell_type": "code",
   "execution_count": 98,
   "id": "b6126a6f",
   "metadata": {},
   "outputs": [],
   "source": [
    "output = sphering(output)"
   ]
  },
  {
   "cell_type": "code",
   "execution_count": 102,
   "id": "abc65b5d",
   "metadata": {},
   "outputs": [],
   "source": [
    "output = L(output)"
   ]
  },
  {
   "cell_type": "code",
   "execution_count": 100,
   "id": "d060945d",
   "metadata": {},
   "outputs": [
    {
     "data": {
      "text/plain": [
       "tensor(38400., device='cuda:0', grad_fn=<SumBackward0>)"
      ]
     },
     "execution_count": 100,
     "metadata": {},
     "output_type": "execute_result"
    }
   ],
   "source": [
    "torch.norm(output, p = 2, dim = 2, keepdim = True).sum()"
   ]
  },
  {
   "cell_type": "code",
   "execution_count": 107,
   "id": "0fbddde8",
   "metadata": {},
   "outputs": [],
   "source": [
    "m = nn.utils.weight_norm(L, name='weight')"
   ]
  },
  {
   "cell_type": "code",
   "execution_count": null,
   "id": "4de25bd1",
   "metadata": {},
   "outputs": [],
   "source": [
    "m."
   ]
  },
  {
   "cell_type": "code",
   "execution_count": null,
   "id": "6ffd60c6",
   "metadata": {},
   "outputs": [],
   "source": []
  },
  {
   "cell_type": "code",
   "execution_count": null,
   "id": "9f3a1ae6",
   "metadata": {},
   "outputs": [],
   "source": [
    "for batch_idx, (data, target) in enumerate(train_loader):\n",
    "    # encode using backbone \n",
    "    train_features = model(data)\n",
    "    \n",
    "    output = T(train_features)\n",
    "    output = sphering(output)\n",
    "    output = L(data)\n",
    "    loss = crit(output,target)\n",
    "    loss.backward()\n",
    "    "
   ]
  }
 ],
 "metadata": {
  "kernelspec": {
   "display_name": "myenv",
   "language": "python",
   "name": "myenv"
  },
  "language_info": {
   "codemirror_mode": {
    "name": "ipython",
    "version": 3
   },
   "file_extension": ".py",
   "mimetype": "text/x-python",
   "name": "python",
   "nbconvert_exporter": "python",
   "pygments_lexer": "ipython3",
   "version": "3.9.7"
  }
 },
 "nbformat": 4,
 "nbformat_minor": 5
}
