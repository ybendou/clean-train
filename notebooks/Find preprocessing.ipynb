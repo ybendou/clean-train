{
 "cells": [
  {
   "cell_type": "code",
   "execution_count": 224,
   "id": "e84a4ade",
   "metadata": {},
   "outputs": [
    {
     "name": "stderr",
     "output_type": "stream",
     "text": [
      "usage: ipykernel_launcher.py [-h] [--batch-size BATCH_SIZE]\n",
      "                             [--feature-maps FEATURE_MAPS] [--lr LR]\n",
      "                             [--epochs EPOCHS] [--milestones MILESTONES]\n",
      "                             [--gamma GAMMA] [--cosine] [--mixup]\n",
      "                             [--dropout DROPOUT] [--rotations] [--model MODEL]\n",
      "                             [--preprocessing PREPROCESSING]\n",
      "                             [--manifold-mixup MANIFOLD_MIXUP]\n",
      "                             [--temperature TEMPERATURE] [--device DEVICE]\n",
      "                             [--dataset-path DATASET_PATH]\n",
      "                             [--dataset-device DATASET_DEVICE]\n",
      "                             [--deterministic] [--skip-epochs SKIP_EPOCHS]\n",
      "                             [--runs RUNS] [--quiet] [--dataset DATASET]\n",
      "                             [--dataset-size DATASET_SIZE] [--output OUTPUT]\n",
      "                             [--save-features SAVE_FEATURES]\n",
      "                             [--save-model SAVE_MODEL]\n",
      "                             [--test-features TEST_FEATURES]\n",
      "                             [--load-model LOAD_MODEL] [--seed SEED]\n",
      "                             [--n-shots N_SHOTS] [--n-runs N_RUNS]\n",
      "                             [--n-ways N_WAYS] [--n-queries N_QUERIES]\n",
      "                             [--ncm-loss] [--episodic]\n",
      "                             [--episodes-per-epoch EPISODES_PER_EPOCH]\n",
      "                             [--wandb WANDB]\n",
      "ipykernel_launcher.py: error: unrecognized arguments: -f /home/y17bendo/.local/share/jupyter/runtime/kernel-3851e143-6112-4a84-8040-878f34d556f0.json\n",
      "[autoreload of utils failed: Traceback (most recent call last):\n",
      "  File \"/home/y17bendo/miniconda3/envs/myenv/lib/python3.9/site-packages/IPython/extensions/autoreload.py\", line 245, in check\n",
      "    superreload(m, reload, self.old_objects)\n",
      "  File \"/home/y17bendo/miniconda3/envs/myenv/lib/python3.9/site-packages/IPython/extensions/autoreload.py\", line 394, in superreload\n",
      "    module = reload(module)\n",
      "  File \"/home/y17bendo/miniconda3/envs/myenv/lib/python3.9/imp.py\", line 314, in reload\n",
      "    return importlib.reload(module)\n",
      "  File \"/home/y17bendo/miniconda3/envs/myenv/lib/python3.9/importlib/__init__.py\", line 169, in reload\n",
      "    _bootstrap._exec(spec, module)\n",
      "  File \"<frozen importlib._bootstrap>\", line 613, in _exec\n",
      "  File \"<frozen importlib._bootstrap_external>\", line 850, in exec_module\n",
      "  File \"<frozen importlib._bootstrap>\", line 228, in _call_with_frames_removed\n",
      "  File \"/home/y17bendo/Documents/code/code_yassir/clean-train/utils.py\", line 1, in <module>\n",
      "    from args import *\n",
      "  File \"/home/y17bendo/Documents/code/code_yassir/clean-train/args.py\", line 83, in <module>\n",
      "    args = parser.parse_args()\n",
      "  File \"/home/y17bendo/miniconda3/envs/myenv/lib/python3.9/argparse.py\", line 1823, in parse_args\n",
      "    self.error(msg % ' '.join(argv))\n",
      "SystemExit: 2\n",
      "]\n",
      "usage: ipykernel_launcher.py [-h] [--batch-size BATCH_SIZE]\n",
      "                             [--feature-maps FEATURE_MAPS] [--lr LR]\n",
      "                             [--epochs EPOCHS] [--milestones MILESTONES]\n",
      "                             [--gamma GAMMA] [--cosine] [--mixup]\n",
      "                             [--dropout DROPOUT] [--rotations] [--model MODEL]\n",
      "                             [--preprocessing PREPROCESSING]\n",
      "                             [--manifold-mixup MANIFOLD_MIXUP]\n",
      "                             [--temperature TEMPERATURE] [--device DEVICE]\n",
      "                             [--dataset-path DATASET_PATH]\n",
      "                             [--dataset-device DATASET_DEVICE]\n",
      "                             [--deterministic] [--skip-epochs SKIP_EPOCHS]\n",
      "                             [--runs RUNS] [--quiet] [--dataset DATASET]\n",
      "                             [--dataset-size DATASET_SIZE] [--output OUTPUT]\n",
      "                             [--save-features SAVE_FEATURES]\n",
      "                             [--save-model SAVE_MODEL]\n",
      "                             [--test-features TEST_FEATURES]\n",
      "                             [--load-model LOAD_MODEL] [--seed SEED]\n",
      "                             [--n-shots N_SHOTS] [--n-runs N_RUNS]\n",
      "                             [--n-ways N_WAYS] [--n-queries N_QUERIES]\n",
      "                             [--ncm-loss] [--episodic]\n",
      "                             [--episodes-per-epoch EPISODES_PER_EPOCH]\n",
      "                             [--wandb WANDB]\n",
      "ipykernel_launcher.py: error: unrecognized arguments: -f /home/y17bendo/.local/share/jupyter/runtime/kernel-3851e143-6112-4a84-8040-878f34d556f0.json\n",
      "[autoreload of datasets failed: Traceback (most recent call last):\n",
      "  File \"/home/y17bendo/miniconda3/envs/myenv/lib/python3.9/site-packages/IPython/extensions/autoreload.py\", line 245, in check\n",
      "    superreload(m, reload, self.old_objects)\n",
      "  File \"/home/y17bendo/miniconda3/envs/myenv/lib/python3.9/site-packages/IPython/extensions/autoreload.py\", line 394, in superreload\n",
      "    module = reload(module)\n",
      "  File \"/home/y17bendo/miniconda3/envs/myenv/lib/python3.9/imp.py\", line 314, in reload\n",
      "    return importlib.reload(module)\n",
      "  File \"/home/y17bendo/miniconda3/envs/myenv/lib/python3.9/importlib/__init__.py\", line 169, in reload\n",
      "    _bootstrap._exec(spec, module)\n",
      "  File \"<frozen importlib._bootstrap>\", line 613, in _exec\n",
      "  File \"<frozen importlib._bootstrap_external>\", line 850, in exec_module\n",
      "  File \"<frozen importlib._bootstrap>\", line 228, in _call_with_frames_removed\n",
      "  File \"/home/y17bendo/Documents/code/code_yassir/clean-train/datasets.py\", line 2, in <module>\n",
      "    from args import args\n",
      "  File \"/home/y17bendo/Documents/code/code_yassir/clean-train/args.py\", line 83, in <module>\n",
      "    args = parser.parse_args()\n",
      "  File \"/home/y17bendo/miniconda3/envs/myenv/lib/python3.9/argparse.py\", line 1823, in parse_args\n",
      "    self.error(msg % ' '.join(argv))\n",
      "SystemExit: 2\n",
      "]\n",
      "usage: ipykernel_launcher.py [-h] [--batch-size BATCH_SIZE]\n",
      "                             [--feature-maps FEATURE_MAPS] [--lr LR]\n",
      "                             [--epochs EPOCHS] [--milestones MILESTONES]\n",
      "                             [--gamma GAMMA] [--cosine] [--mixup]\n",
      "                             [--dropout DROPOUT] [--rotations] [--model MODEL]\n",
      "                             [--preprocessing PREPROCESSING]\n",
      "                             [--manifold-mixup MANIFOLD_MIXUP]\n",
      "                             [--temperature TEMPERATURE] [--device DEVICE]\n",
      "                             [--dataset-path DATASET_PATH]\n",
      "                             [--dataset-device DATASET_DEVICE]\n",
      "                             [--deterministic] [--skip-epochs SKIP_EPOCHS]\n",
      "                             [--runs RUNS] [--quiet] [--dataset DATASET]\n",
      "                             [--dataset-size DATASET_SIZE] [--output OUTPUT]\n",
      "                             [--save-features SAVE_FEATURES]\n",
      "                             [--save-model SAVE_MODEL]\n",
      "                             [--test-features TEST_FEATURES]\n",
      "                             [--load-model LOAD_MODEL] [--seed SEED]\n",
      "                             [--n-shots N_SHOTS] [--n-runs N_RUNS]\n",
      "                             [--n-ways N_WAYS] [--n-queries N_QUERIES]\n",
      "                             [--ncm-loss] [--episodic]\n",
      "                             [--episodes-per-epoch EPISODES_PER_EPOCH]\n",
      "                             [--wandb WANDB]\n",
      "ipykernel_launcher.py: error: unrecognized arguments: -f /home/y17bendo/.local/share/jupyter/runtime/kernel-3851e143-6112-4a84-8040-878f34d556f0.json\n",
      "[autoreload of few_shot_eval failed: Traceback (most recent call last):\n",
      "  File \"/home/y17bendo/miniconda3/envs/myenv/lib/python3.9/site-packages/IPython/extensions/autoreload.py\", line 245, in check\n",
      "    superreload(m, reload, self.old_objects)\n",
      "  File \"/home/y17bendo/miniconda3/envs/myenv/lib/python3.9/site-packages/IPython/extensions/autoreload.py\", line 394, in superreload\n",
      "    module = reload(module)\n",
      "  File \"/home/y17bendo/miniconda3/envs/myenv/lib/python3.9/imp.py\", line 314, in reload\n",
      "    return importlib.reload(module)\n",
      "  File \"/home/y17bendo/miniconda3/envs/myenv/lib/python3.9/importlib/__init__.py\", line 169, in reload\n",
      "    _bootstrap._exec(spec, module)\n",
      "  File \"<frozen importlib._bootstrap>\", line 613, in _exec\n",
      "  File \"<frozen importlib._bootstrap_external>\", line 850, in exec_module\n",
      "  File \"<frozen importlib._bootstrap>\", line 228, in _call_with_frames_removed\n",
      "  File \"/home/y17bendo/Documents/code/code_yassir/clean-train/few_shot_eval.py\", line 3, in <module>\n",
      "    from args import *\n",
      "  File \"/home/y17bendo/Documents/code/code_yassir/clean-train/args.py\", line 83, in <module>\n",
      "    args = parser.parse_args()\n",
      "  File \"/home/y17bendo/miniconda3/envs/myenv/lib/python3.9/argparse.py\", line 1823, in parse_args\n",
      "    self.error(msg % ' '.join(argv))\n",
      "SystemExit: 2\n",
      "]\n",
      "usage: ipykernel_launcher.py [-h] [--batch-size BATCH_SIZE]\n",
      "                             [--feature-maps FEATURE_MAPS] [--lr LR]\n",
      "                             [--epochs EPOCHS] [--milestones MILESTONES]\n",
      "                             [--gamma GAMMA] [--cosine] [--mixup]\n",
      "                             [--dropout DROPOUT] [--rotations] [--model MODEL]\n",
      "                             [--preprocessing PREPROCESSING]\n",
      "                             [--manifold-mixup MANIFOLD_MIXUP]\n",
      "                             [--temperature TEMPERATURE] [--device DEVICE]\n",
      "                             [--dataset-path DATASET_PATH]\n",
      "                             [--dataset-device DATASET_DEVICE]\n",
      "                             [--deterministic] [--skip-epochs SKIP_EPOCHS]\n",
      "                             [--runs RUNS] [--quiet] [--dataset DATASET]\n",
      "                             [--dataset-size DATASET_SIZE] [--output OUTPUT]\n",
      "                             [--save-features SAVE_FEATURES]\n",
      "                             [--save-model SAVE_MODEL]\n",
      "                             [--test-features TEST_FEATURES]\n",
      "                             [--load-model LOAD_MODEL] [--seed SEED]\n",
      "                             [--n-shots N_SHOTS] [--n-runs N_RUNS]\n",
      "                             [--n-ways N_WAYS] [--n-queries N_QUERIES]\n",
      "                             [--ncm-loss] [--episodic]\n",
      "                             [--episodes-per-epoch EPISODES_PER_EPOCH]\n",
      "                             [--wandb WANDB]\n",
      "ipykernel_launcher.py: error: unrecognized arguments: -f /home/y17bendo/.local/share/jupyter/runtime/kernel-3851e143-6112-4a84-8040-878f34d556f0.json\n",
      "[autoreload of resnet12 failed: Traceback (most recent call last):\n",
      "  File \"/home/y17bendo/miniconda3/envs/myenv/lib/python3.9/site-packages/IPython/extensions/autoreload.py\", line 245, in check\n",
      "    superreload(m, reload, self.old_objects)\n",
      "  File \"/home/y17bendo/miniconda3/envs/myenv/lib/python3.9/site-packages/IPython/extensions/autoreload.py\", line 394, in superreload\n",
      "    module = reload(module)\n",
      "  File \"/home/y17bendo/miniconda3/envs/myenv/lib/python3.9/imp.py\", line 314, in reload\n",
      "    return importlib.reload(module)\n",
      "  File \"/home/y17bendo/miniconda3/envs/myenv/lib/python3.9/importlib/__init__.py\", line 169, in reload\n",
      "    _bootstrap._exec(spec, module)\n",
      "  File \"<frozen importlib._bootstrap>\", line 613, in _exec\n",
      "  File \"<frozen importlib._bootstrap_external>\", line 850, in exec_module\n",
      "  File \"<frozen importlib._bootstrap>\", line 228, in _call_with_frames_removed\n",
      "  File \"/home/y17bendo/Documents/code/code_yassir/clean-train/resnet12.py\", line 2, in <module>\n",
      "    from args import *\n",
      "  File \"/home/y17bendo/Documents/code/code_yassir/clean-train/args.py\", line 83, in <module>\n",
      "    args = parser.parse_args()\n",
      "  File \"/home/y17bendo/miniconda3/envs/myenv/lib/python3.9/argparse.py\", line 1823, in parse_args\n",
      "    self.error(msg % ' '.join(argv))\n",
      "SystemExit: 2\n",
      "]\n"
     ]
    },
    {
     "data": {
      "text/html": [
       "<style>.container { width:90% !important; }</style>"
      ],
      "text/plain": [
       "<IPython.core.display.HTML object>"
      ]
     },
     "metadata": {},
     "output_type": "display_data"
    },
    {
     "name": "stdout",
     "output_type": "stream",
     "text": [
      "The autoreload extension is already loaded. To reload it, use:\n",
      "  %reload_ext autoreload\n"
     ]
    }
   ],
   "source": [
    "import seaborn as sns ;sns.set(rc={'figure.figsize':(20,10)})\n",
    "\n",
    "import warnings\n",
    "warnings.filterwarnings(\"ignore\")\n",
    "from IPython.display import Latex\n",
    "\n",
    "from IPython.core.display import display, HTML\n",
    "display(HTML(\"<style>.container { width:90% !important; }</style>\"))\n",
    "\n",
    "%load_ext autoreload\n",
    "%autoreload 2\n",
    "\n",
    "import matplotlib.pyplot as plt\n",
    "plt.rcParams ['figure.figsize']  = 25, 10\n",
    "plt.rcParams ['axes.labelsize']  = 14\n",
    "plt.rcParams ['xtick.labelsize'] = 12\n",
    "plt.rcParams ['ytick.labelsize'] = 12\n",
    "plt.rcParams ['text.color']      = 'black'\n",
    "plt.rcParams ['axes.labelcolor'] = 'black'\n",
    "plt.rcParams ['xtick.color']     = 'black'\n",
    "plt.rcParams ['ytick.color']     = 'black'\n",
    "plt.style.use('fivethirtyeight')"
   ]
  },
  {
   "cell_type": "code",
   "execution_count": 2,
   "id": "cc8cb777",
   "metadata": {},
   "outputs": [
    {
     "name": "stdout",
     "output_type": "stream",
     "text": [
      "utils, datasets, eval_few_shot, "
     ]
    }
   ],
   "source": [
    "from utils import *\n",
    "import datasets\n",
    "from args_notebook import args\n",
    "import resnet12\n",
    "import few_shot_eval"
   ]
  },
  {
   "cell_type": "code",
   "execution_count": 3,
   "id": "2640caa6",
   "metadata": {},
   "outputs": [
    {
     "name": "stdout",
     "output_type": "stream",
     "text": [
      "\n",
      "Dataset contains 64 base classes, 16 val classes and 20 novel classes.\n",
      "Generating runs... done.\n"
     ]
    }
   ],
   "source": [
    "loaders, input_shape, num_classes, few_shot, top_5 = datasets.get_dataset(args.dataset)\n",
    "\n",
    "### initialize few-shot meta data\n",
    "if few_shot:\n",
    "    num_classes, val_classes, novel_classes, elements_per_class = num_classes\n",
    "    if args.dataset.lower() == \"cubfs\":\n",
    "        elements_val, elements_novel = elements_per_class\n",
    "    else:\n",
    "        elements_val, elements_novel = [elements_per_class] * val_classes, [elements_per_class] * novel_classes\n",
    "    print(\"Dataset contains\",num_classes,\"base classes,\",val_classes,\"val classes and\",novel_classes,\"novel classes.\")\n",
    "    print(\"Generating runs... \", end='')\n",
    "    val_runs = list(zip(*[few_shot_eval.define_runs(args.n_ways, s, args.n_queries, val_classes, elements_val) for s in args.n_shots]))\n",
    "    val_run_classes, val_run_indices = val_runs[0], val_runs[1]\n",
    "    novel_runs = list(zip(*[few_shot_eval.define_runs(args.n_ways, s, args.n_queries, novel_classes, elements_novel) for s in args.n_shots]))\n",
    "    novel_run_classes, novel_run_indices = novel_runs[0], novel_runs[1]\n",
    "    print(\"done.\")\n",
    "    few_shot_meta_data = {\n",
    "        \"val_run_classes\" : val_run_classes,\n",
    "        \"val_run_indices\" : val_run_indices,\n",
    "        \"novel_run_classes\" : novel_run_classes,\n",
    "        \"novel_run_indices\" : novel_run_indices,\n",
    "        \"best_val_acc\" : [0] * len(args.n_shots),\n",
    "        \"best_val_acc_ever\" : [0] * len(args.n_shots),\n",
    "        \"best_novel_acc\" : [0] * len(args.n_shots)\n",
    "    }\n",
    "\n",
    "    "
   ]
  },
  {
   "cell_type": "code",
   "execution_count": 4,
   "id": "3de2d8a2",
   "metadata": {},
   "outputs": [],
   "source": [
    "### function to create model\n",
    "def create_model():\n",
    "    if args.model.lower() == \"resnet18\":\n",
    "        return resnet.ResNet18(args.feature_maps, input_shape, num_classes, few_shot, args.rotations).to(args.device)\n",
    "    if args.model.lower() == \"resnet20\":\n",
    "        return resnet.ResNet20(args.feature_maps, input_shape, num_classes, few_shot, args.rotations).to(args.device)\n",
    "    if args.model.lower() == \"wideresnet\":\n",
    "        return wideresnet.WideResNet(args.feature_maps, input_shape, few_shot, args.rotations, num_classes = num_classes).to(args.device)\n",
    "    if args.model.lower() == \"resnet12\":\n",
    "        return resnet12.ResNet12(args.feature_maps, input_shape, num_classes, few_shot, args.rotations).to(args.device)\n",
    "    if args.model.lower()[:3] == \"mlp\":\n",
    "        return mlp.MLP(args.feature_maps, int(args.model[3:]), input_shape, num_classes, args.rotations, few_shot).to(args.device)\n",
    "    if args.model.lower() == \"s2m2r\":\n",
    "        return s2m2.S2M2R(args.feature_maps, input_shape, args.rotations, num_classes = num_classes).to(args.device)\n",
    "\n",
    "model = create_model()"
   ]
  },
  {
   "cell_type": "code",
   "execution_count": 89,
   "id": "34f3219f",
   "metadata": {},
   "outputs": [],
   "source": [
    "\n",
    "mode = 'standard'\n",
    "shot = 5\n",
    "train_classes = 64\n",
    "out_maps = 640\n",
    "feature_maps = 64\n",
    "\n",
    "features_path = '../../../Experiments/features/'\n",
    "features = torch.load(f'{features_path}/features_{mode}{shot}')\n",
    "\n",
    "train_features = features[:64]\n",
    "val_features = features[64:-16]\n",
    "novel_features = features[-16:]"
   ]
  },
  {
   "cell_type": "code",
   "execution_count": 90,
   "id": "92a19246",
   "metadata": {},
   "outputs": [],
   "source": [
    "train_features = sphering(train_features)"
   ]
  },
  {
   "cell_type": "code",
   "execution_count": 91,
   "id": "c1d901c5",
   "metadata": {},
   "outputs": [],
   "source": [
    "train_features = train_features.reshape(600*train_classes, 1, 640)"
   ]
  },
  {
   "cell_type": "code",
   "execution_count": 203,
   "id": "498596b0",
   "metadata": {},
   "outputs": [],
   "source": [
    "from torch import nn\n",
    "class transform(nn.Module):\n",
    "    def __init__(self, feature_maps=64, out_maps=640):\n",
    "        super(transform, self).__init__()\n",
    "        self.linear = nn.Linear(10*feature_maps, out_maps, bias=True)\n",
    "    \n",
    "    def forward(self, x):\n",
    "        return self.linear(x)\n",
    "    \n",
    "\n",
    "\n",
    "T = transform(feature_maps, out_maps).cuda()\n",
    "L = nn.Linear(out_maps, train_classes, bias=False).cuda()\n",
    "\n",
    "\n"
   ]
  },
  {
   "cell_type": "code",
   "execution_count": 160,
   "id": "b98120f2",
   "metadata": {
    "collapsed": true
   },
   "outputs": [
    {
     "ename": "NameError",
     "evalue": "name 'target' is not defined",
     "output_type": "error",
     "traceback": [
      "\u001b[0;31m---------------------------------------------------------------------------\u001b[0m",
      "\u001b[0;31mNameError\u001b[0m                                 Traceback (most recent call last)",
      "\u001b[0;32m/tmp/ipykernel_416889/1367802707.py\u001b[0m in \u001b[0;36m<module>\u001b[0;34m\u001b[0m\n\u001b[1;32m      5\u001b[0m \u001b[0moutput\u001b[0m \u001b[0;34m=\u001b[0m \u001b[0msphering\u001b[0m\u001b[0;34m(\u001b[0m\u001b[0moutput\u001b[0m\u001b[0;34m)\u001b[0m\u001b[0;34m\u001b[0m\u001b[0;34m\u001b[0m\u001b[0m\n\u001b[1;32m      6\u001b[0m \u001b[0moutput\u001b[0m \u001b[0;34m=\u001b[0m \u001b[0mL\u001b[0m\u001b[0;34m(\u001b[0m\u001b[0moutput\u001b[0m\u001b[0;34m)\u001b[0m\u001b[0;34m\u001b[0m\u001b[0;34m\u001b[0m\u001b[0m\n\u001b[0;32m----> 7\u001b[0;31m \u001b[0mloss\u001b[0m \u001b[0;34m=\u001b[0m \u001b[0mcrit\u001b[0m\u001b[0;34m(\u001b[0m\u001b[0moutput\u001b[0m\u001b[0;34m,\u001b[0m\u001b[0mtarget\u001b[0m\u001b[0;34m)\u001b[0m\u001b[0;34m\u001b[0m\u001b[0;34m\u001b[0m\u001b[0m\n\u001b[0m",
      "\u001b[0;31mNameError\u001b[0m: name 'target' is not defined"
     ]
    }
   ],
   "source": [
    "# train classifier on train features\n",
    "crit = torch.nn.CrossEntropyLoss()\n",
    "\n",
    "output = T(train_features)\n",
    "output = sphering(output)\n",
    "output = L(output)\n",
    "loss = crit(output,target)"
   ]
  },
  {
   "cell_type": "code",
   "execution_count": 93,
   "id": "52d578d8",
   "metadata": {},
   "outputs": [],
   "source": [
    "output = T(train_features)"
   ]
  },
  {
   "cell_type": "code",
   "execution_count": 98,
   "id": "b340117f",
   "metadata": {},
   "outputs": [],
   "source": [
    "output = sphering(output)"
   ]
  },
  {
   "cell_type": "code",
   "execution_count": 102,
   "id": "fea4e45e",
   "metadata": {},
   "outputs": [],
   "source": [
    "output = L(output)"
   ]
  },
  {
   "cell_type": "code",
   "execution_count": 221,
   "id": "8f5ca50a",
   "metadata": {},
   "outputs": [
    {
     "data": {
      "text/plain": [
       "Parameter containing:\n",
       "tensor([[-0.0080, -0.0085, -0.0382,  ..., -0.0379,  0.0293,  0.0099],\n",
       "        [ 0.0351,  0.0038,  0.0221,  ...,  0.0101, -0.0386, -0.0312],\n",
       "        [ 0.0331, -0.0263,  0.0039,  ...,  0.0238, -0.0336, -0.0368],\n",
       "        ...,\n",
       "        [ 0.0142,  0.0383, -0.0068,  ...,  0.0126,  0.0120, -0.0088],\n",
       "        [-0.0329, -0.0051,  0.0358,  ...,  0.0068, -0.0196,  0.0006],\n",
       "        [-0.0174,  0.0394, -0.0007,  ..., -0.0011, -0.0362, -0.0120]],\n",
       "       device='cuda:0', requires_grad=True)"
      ]
     },
     "execution_count": 221,
     "metadata": {},
     "output_type": "execute_result"
    }
   ],
   "source": [
    "[i for i in L.parameters()][1]"
   ]
  },
  {
   "cell_type": "code",
   "execution_count": 216,
   "id": "173a6b65",
   "metadata": {},
   "outputs": [
    {
     "data": {
      "text/plain": [
       "<generator object Module.parameters at 0x7f90d65e6ba0>"
      ]
     },
     "execution_count": 216,
     "metadata": {},
     "output_type": "execute_result"
    }
   ],
   "source": [
    "L.parameters()"
   ]
  },
  {
   "cell_type": "code",
   "execution_count": 200,
   "id": "c0244841",
   "metadata": {},
   "outputs": [
    {
     "data": {
      "text/plain": [
       "tensor([0.5770, 0.5749, 0.5799, 0.5832, 0.5788, 0.5737, 0.5815, 0.5704, 0.5632,\n",
       "        0.5954, 0.5791, 0.5564, 0.5872, 0.5679, 0.5806, 0.5727, 0.5717, 0.5760,\n",
       "        0.6053, 0.5750, 0.5705, 0.5687, 0.5898, 0.5745, 0.5827, 0.5797, 0.5757,\n",
       "        0.5867, 0.5792, 0.5600, 0.5707, 0.5914, 0.5628, 0.5794, 0.5758, 0.5790,\n",
       "        0.5896, 0.5733, 0.5807, 0.5777, 0.5918, 0.5764, 0.5708, 0.6003, 0.5641,\n",
       "        0.5936, 0.5746, 0.5796, 0.5841, 0.5755, 0.5761, 0.5710, 0.5700, 0.5812,\n",
       "        0.5609, 0.5930, 0.5870, 0.5818, 0.5716, 0.5860, 0.5845, 0.5850, 0.5796,\n",
       "        0.5569], device='cuda:0', grad_fn=<CopyBackwards>)"
      ]
     },
     "execution_count": 200,
     "metadata": {},
     "output_type": "execute_result"
    }
   ],
   "source": [
    "torch.norm([i for i in L.parameters()][0], dim=1)"
   ]
  },
  {
   "cell_type": "code",
   "execution_count": 219,
   "id": "d7e8306a",
   "metadata": {},
   "outputs": [],
   "source": [
    "L.weight_g.requires_grad = False"
   ]
  },
  {
   "cell_type": "code",
   "execution_count": 208,
   "id": "2bf4d29a",
   "metadata": {
    "collapsed": true
   },
   "outputs": [
    {
     "ename": "RuntimeError",
     "evalue": "Cannot register two weight_norm hooks on the same parameter weight",
     "output_type": "error",
     "traceback": [
      "\u001b[0;31m---------------------------------------------------------------------------\u001b[0m",
      "\u001b[0;31mRuntimeError\u001b[0m                              Traceback (most recent call last)",
      "\u001b[0;32m/tmp/ipykernel_416889/2620339441.py\u001b[0m in \u001b[0;36m<module>\u001b[0;34m\u001b[0m\n\u001b[0;32m----> 1\u001b[0;31m \u001b[0mL\u001b[0m \u001b[0;34m=\u001b[0m \u001b[0mnn\u001b[0m\u001b[0;34m.\u001b[0m\u001b[0mutils\u001b[0m\u001b[0;34m.\u001b[0m\u001b[0mweight_norm\u001b[0m\u001b[0;34m(\u001b[0m\u001b[0mL\u001b[0m\u001b[0;34m,\u001b[0m \u001b[0mname\u001b[0m\u001b[0;34m=\u001b[0m\u001b[0;34m'weight'\u001b[0m\u001b[0;34m)\u001b[0m\u001b[0;34m\u001b[0m\u001b[0;34m\u001b[0m\u001b[0m\n\u001b[0m",
      "\u001b[0;32m~/miniconda3/envs/myenv/lib/python3.9/site-packages/torch/nn/utils/weight_norm.py\u001b[0m in \u001b[0;36mweight_norm\u001b[0;34m(module, name, dim)\u001b[0m\n\u001b[1;32m    106\u001b[0m \u001b[0;34m\u001b[0m\u001b[0m\n\u001b[1;32m    107\u001b[0m     \"\"\"\n\u001b[0;32m--> 108\u001b[0;31m     \u001b[0mWeightNorm\u001b[0m\u001b[0;34m.\u001b[0m\u001b[0mapply\u001b[0m\u001b[0;34m(\u001b[0m\u001b[0mmodule\u001b[0m\u001b[0;34m,\u001b[0m \u001b[0mname\u001b[0m\u001b[0;34m,\u001b[0m \u001b[0mdim\u001b[0m\u001b[0;34m)\u001b[0m\u001b[0;34m\u001b[0m\u001b[0;34m\u001b[0m\u001b[0m\n\u001b[0m\u001b[1;32m    109\u001b[0m     \u001b[0;32mreturn\u001b[0m \u001b[0mmodule\u001b[0m\u001b[0;34m\u001b[0m\u001b[0;34m\u001b[0m\u001b[0m\n\u001b[1;32m    110\u001b[0m \u001b[0;34m\u001b[0m\u001b[0m\n",
      "\u001b[0;32m~/miniconda3/envs/myenv/lib/python3.9/site-packages/torch/nn/utils/weight_norm.py\u001b[0m in \u001b[0;36mapply\u001b[0;34m(module, name, dim)\u001b[0m\n\u001b[1;32m     28\u001b[0m         \u001b[0;32mfor\u001b[0m \u001b[0mk\u001b[0m\u001b[0;34m,\u001b[0m \u001b[0mhook\u001b[0m \u001b[0;32min\u001b[0m \u001b[0mmodule\u001b[0m\u001b[0;34m.\u001b[0m\u001b[0m_forward_pre_hooks\u001b[0m\u001b[0;34m.\u001b[0m\u001b[0mitems\u001b[0m\u001b[0;34m(\u001b[0m\u001b[0;34m)\u001b[0m\u001b[0;34m:\u001b[0m\u001b[0;34m\u001b[0m\u001b[0;34m\u001b[0m\u001b[0m\n\u001b[1;32m     29\u001b[0m             \u001b[0;32mif\u001b[0m \u001b[0misinstance\u001b[0m\u001b[0;34m(\u001b[0m\u001b[0mhook\u001b[0m\u001b[0;34m,\u001b[0m \u001b[0mWeightNorm\u001b[0m\u001b[0;34m)\u001b[0m \u001b[0;32mand\u001b[0m \u001b[0mhook\u001b[0m\u001b[0;34m.\u001b[0m\u001b[0mname\u001b[0m \u001b[0;34m==\u001b[0m \u001b[0mname\u001b[0m\u001b[0;34m:\u001b[0m\u001b[0;34m\u001b[0m\u001b[0;34m\u001b[0m\u001b[0m\n\u001b[0;32m---> 30\u001b[0;31m                 raise RuntimeError(\"Cannot register two weight_norm hooks on \"\n\u001b[0m\u001b[1;32m     31\u001b[0m                                    \"the same parameter {}\".format(name))\n\u001b[1;32m     32\u001b[0m \u001b[0;34m\u001b[0m\u001b[0m\n",
      "\u001b[0;31mRuntimeError\u001b[0m: Cannot register two weight_norm hooks on the same parameter weight"
     ]
    }
   ],
   "source": [
    "L = nn.utils.weight_norm(L, name='weight')"
   ]
  },
  {
   "cell_type": "code",
   "execution_count": 206,
   "id": "c91088cb",
   "metadata": {},
   "outputs": [
    {
     "ename": "TypeError",
     "evalue": "params argument given to the optimizer should be an iterable of Tensors or dicts, but got torch.cuda.FloatTensor",
     "output_type": "error",
     "traceback": [
      "\u001b[0;31m---------------------------------------------------------------------------\u001b[0m",
      "\u001b[0;31mTypeError\u001b[0m                                 Traceback (most recent call last)",
      "\u001b[0;32m/tmp/ipykernel_416889/1743976197.py\u001b[0m in \u001b[0;36m<module>\u001b[0;34m\u001b[0m\n\u001b[0;32m----> 1\u001b[0;31m \u001b[0moptimizer_L\u001b[0m \u001b[0;34m=\u001b[0m \u001b[0mtorch\u001b[0m\u001b[0;34m.\u001b[0m\u001b[0moptim\u001b[0m\u001b[0;34m.\u001b[0m\u001b[0mAdam\u001b[0m\u001b[0;34m(\u001b[0m\u001b[0mL\u001b[0m\u001b[0;34m.\u001b[0m\u001b[0mweight_v\u001b[0m\u001b[0;34m,\u001b[0m \u001b[0mlr\u001b[0m \u001b[0;34m=\u001b[0m \u001b[0;36m0.01\u001b[0m\u001b[0;34m)\u001b[0m\u001b[0;34m\u001b[0m\u001b[0;34m\u001b[0m\u001b[0m\n\u001b[0m",
      "\u001b[0;32m~/miniconda3/envs/myenv/lib/python3.9/site-packages/torch/optim/adam.py\u001b[0m in \u001b[0;36m__init__\u001b[0;34m(self, params, lr, betas, eps, weight_decay, amsgrad)\u001b[0m\n\u001b[1;32m     72\u001b[0m         defaults = dict(lr=lr, betas=betas, eps=eps,\n\u001b[1;32m     73\u001b[0m                         weight_decay=weight_decay, amsgrad=amsgrad)\n\u001b[0;32m---> 74\u001b[0;31m         \u001b[0msuper\u001b[0m\u001b[0;34m(\u001b[0m\u001b[0mAdam\u001b[0m\u001b[0;34m,\u001b[0m \u001b[0mself\u001b[0m\u001b[0;34m)\u001b[0m\u001b[0;34m.\u001b[0m\u001b[0m__init__\u001b[0m\u001b[0;34m(\u001b[0m\u001b[0mparams\u001b[0m\u001b[0;34m,\u001b[0m \u001b[0mdefaults\u001b[0m\u001b[0;34m)\u001b[0m\u001b[0;34m\u001b[0m\u001b[0;34m\u001b[0m\u001b[0m\n\u001b[0m\u001b[1;32m     75\u001b[0m \u001b[0;34m\u001b[0m\u001b[0m\n\u001b[1;32m     76\u001b[0m     \u001b[0;32mdef\u001b[0m \u001b[0m__setstate__\u001b[0m\u001b[0;34m(\u001b[0m\u001b[0mself\u001b[0m\u001b[0;34m,\u001b[0m \u001b[0mstate\u001b[0m\u001b[0;34m)\u001b[0m\u001b[0;34m:\u001b[0m\u001b[0;34m\u001b[0m\u001b[0;34m\u001b[0m\u001b[0m\n",
      "\u001b[0;32m~/miniconda3/envs/myenv/lib/python3.9/site-packages/torch/optim/optimizer.py\u001b[0m in \u001b[0;36m__init__\u001b[0;34m(self, params, defaults)\u001b[0m\n\u001b[1;32m     38\u001b[0m \u001b[0;34m\u001b[0m\u001b[0m\n\u001b[1;32m     39\u001b[0m         \u001b[0;32mif\u001b[0m \u001b[0misinstance\u001b[0m\u001b[0;34m(\u001b[0m\u001b[0mparams\u001b[0m\u001b[0;34m,\u001b[0m \u001b[0mtorch\u001b[0m\u001b[0;34m.\u001b[0m\u001b[0mTensor\u001b[0m\u001b[0;34m)\u001b[0m\u001b[0;34m:\u001b[0m\u001b[0;34m\u001b[0m\u001b[0;34m\u001b[0m\u001b[0m\n\u001b[0;32m---> 40\u001b[0;31m             raise TypeError(\"params argument given to the optimizer should be \"\n\u001b[0m\u001b[1;32m     41\u001b[0m                             \u001b[0;34m\"an iterable of Tensors or dicts, but got \"\u001b[0m \u001b[0;34m+\u001b[0m\u001b[0;34m\u001b[0m\u001b[0;34m\u001b[0m\u001b[0m\n\u001b[1;32m     42\u001b[0m                             torch.typename(params))\n",
      "\u001b[0;31mTypeError\u001b[0m: params argument given to the optimizer should be an iterable of Tensors or dicts, but got torch.cuda.FloatTensor"
     ]
    }
   ],
   "source": [
    "optimizer_L = torch.optim.Adam(L.weight_v, lr = 0.01)"
   ]
  },
  {
   "cell_type": "code",
   "execution_count": 190,
   "id": "ac0a4fe8",
   "metadata": {},
   "outputs": [],
   "source": [
    "L.weight_g = torch.nn.Parameter(torch.ones(1, 64, device='cuda:0'))"
   ]
  },
  {
   "cell_type": "code",
   "execution_count": 191,
   "id": "afc8457e",
   "metadata": {},
   "outputs": [
    {
     "data": {
      "text/plain": [
       "Parameter containing:\n",
       "tensor([[1., 1., 1., 1., 1., 1., 1., 1., 1., 1., 1., 1., 1., 1., 1., 1., 1., 1.,\n",
       "         1., 1., 1., 1., 1., 1., 1., 1., 1., 1., 1., 1., 1., 1., 1., 1., 1., 1.,\n",
       "         1., 1., 1., 1., 1., 1., 1., 1., 1., 1., 1., 1., 1., 1., 1., 1., 1., 1.,\n",
       "         1., 1., 1., 1., 1., 1., 1., 1., 1., 1.]], device='cuda:0',\n",
       "       requires_grad=True)"
      ]
     },
     "execution_count": 191,
     "metadata": {},
     "output_type": "execute_result"
    }
   ],
   "source": [
    "[i for i in L.parameters()][0]"
   ]
  },
  {
   "cell_type": "code",
   "execution_count": 149,
   "id": "81febed8",
   "metadata": {},
   "outputs": [
    {
     "data": {
      "text/plain": [
       "tensor([0.5724, 0.5843, 0.5913, 0.5689, 0.5804, 0.5829, 0.5667, 0.5531, 0.5656,\n",
       "        0.6038, 0.5856, 0.5857, 0.5838, 0.5885, 0.5931, 0.6008, 0.5800, 0.6014,\n",
       "        0.5472, 0.5839, 0.5864, 0.5685, 0.5583, 0.5773, 0.5777, 0.5778, 0.5838,\n",
       "        0.5553, 0.5672, 0.5948, 0.5780, 0.5763, 0.5709, 0.5811, 0.5955, 0.5867,\n",
       "        0.5879, 0.5709, 0.5851, 0.5891, 0.5580, 0.5852, 0.5657, 0.5671, 0.5711,\n",
       "        0.5832, 0.5720, 0.5835, 0.5831, 0.5744, 0.5750, 0.5799, 0.5853, 0.5758,\n",
       "        0.5704, 0.5693, 0.5674, 0.5798, 0.5633, 0.5671, 0.5833, 0.5675, 0.5688,\n",
       "        0.5613], device='cuda:0', grad_fn=<CopyBackwards>)"
      ]
     },
     "execution_count": 149,
     "metadata": {},
     "output_type": "execute_result"
    }
   ],
   "source": [
    "torch.norm([i for i in L.parameters()][0], dim=1)"
   ]
  },
  {
   "cell_type": "code",
   "execution_count": 175,
   "id": "3dd67c88",
   "metadata": {},
   "outputs": [
    {
     "data": {
      "text/plain": [
       "<tuple_iterator at 0x7f90f0361b50>"
      ]
     },
     "execution_count": 175,
     "metadata": {},
     "output_type": "execute_result"
    }
   ],
   "source": [
    "torch.nn.utils.parameters_to_vector(m)"
   ]
  },
  {
   "cell_type": "code",
   "execution_count": 155,
   "id": "97aeaab3",
   "metadata": {},
   "outputs": [
    {
     "data": {
      "text/plain": [
       "Parameter containing:\n",
       "tensor([[1., 1., 1., 1., 1., 1., 1., 1., 1., 1., 1., 1., 1., 1., 1., 1., 1., 1.,\n",
       "         1., 1., 1., 1., 1., 1., 1., 1., 1., 1., 1., 1., 1., 1., 1., 1., 1., 1.,\n",
       "         1., 1., 1., 1., 1., 1., 1., 1., 1., 1., 1., 1., 1., 1., 1., 1., 1., 1.,\n",
       "         1., 1., 1., 1., 1., 1., 1., 1., 1., 1.]], requires_grad=True)"
      ]
     },
     "execution_count": 155,
     "metadata": {},
     "output_type": "execute_result"
    }
   ],
   "source": [
    "[i for i in L.parameters()][0]"
   ]
  },
  {
   "cell_type": "code",
   "execution_count": null,
   "id": "372bcddc",
   "metadata": {},
   "outputs": [],
   "source": [
    "torch.norm([i for i in L.parameters()][0], dim=1)"
   ]
  },
  {
   "cell_type": "code",
   "execution_count": 227,
   "id": "e6a249c2",
   "metadata": {},
   "outputs": [],
   "source": [
    "x = sphering(output)"
   ]
  },
  {
   "cell_type": "code",
   "execution_count": 238,
   "id": "ed5cb671",
   "metadata": {},
   "outputs": [
    {
     "data": {
      "text/plain": [
       "torch.Size([64, 600, 640])"
      ]
     },
     "execution_count": 238,
     "metadata": {},
     "output_type": "execute_result"
    }
   ],
   "source": [
    "train_features.reshape(64, 600, 640).shape"
   ]
  },
  {
   "cell_type": "code",
   "execution_count": 134,
   "id": "dd15a5a8",
   "metadata": {
    "scrolled": true
   },
   "outputs": [
    {
     "data": {
      "text/plain": [
       "tensor([[1.]], device='cuda:0', grad_fn=<NormBackward1>)"
      ]
     },
     "execution_count": 134,
     "metadata": {},
     "output_type": "execute_result"
    }
   ],
   "source": [
    "torch.norm(m.weight_g, p = 2, dim = 0, keepdim = True)"
   ]
  },
  {
   "cell_type": "code",
   "execution_count": null,
   "id": "90a1bcbd",
   "metadata": {},
   "outputs": [],
   "source": [
    "for batch_idx, (data, target) in enumerate(train_loader):\n",
    "    # encode using backbone \n",
    "    train_features = model(data)\n",
    "    \n",
    "    output = T(train_features)\n",
    "    output = sphering(output)\n",
    "    output = L(data)\n",
    "    loss = crit(output,target)\n",
    "    loss.backward()\n",
    "    "
   ]
  },
  {
   "cell_type": "code",
   "execution_count": null,
   "id": "979fae91",
   "metadata": {},
   "outputs": [],
   "source": []
  },
  {
   "cell_type": "code",
   "execution_count": null,
   "id": "de313dad",
   "metadata": {},
   "outputs": [],
   "source": []
  },
  {
   "cell_type": "code",
   "execution_count": null,
   "id": "3d6094d8",
   "metadata": {},
   "outputs": [],
   "source": []
  },
  {
   "cell_type": "code",
   "execution_count": null,
   "id": "b07e78f0",
   "metadata": {},
   "outputs": [],
   "source": []
  }
 ],
 "metadata": {
  "kernelspec": {
   "display_name": "myenv",
   "language": "python",
   "name": "myenv"
  },
  "language_info": {
   "codemirror_mode": {
    "name": "ipython",
    "version": 3
   },
   "file_extension": ".py",
   "mimetype": "text/x-python",
   "name": "python",
   "nbconvert_exporter": "python",
   "pygments_lexer": "ipython3",
   "version": "3.9.7"
  }
 },
 "nbformat": 4,
 "nbformat_minor": 5
}
